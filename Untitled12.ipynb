{
 "cells": [
  {
   "cell_type": "code",
   "execution_count": 2,
   "id": "cb588395-323a-48ab-9364-3afc6d359bda",
   "metadata": {},
   "outputs": [
    {
     "ename": "ModuleNotFoundError",
     "evalue": "No module named 'surprise'",
     "output_type": "error",
     "traceback": [
      "\u001b[1;31m---------------------------------------------------------------------------\u001b[0m",
      "\u001b[1;31mModuleNotFoundError\u001b[0m                       Traceback (most recent call last)",
      "Cell \u001b[1;32mIn[2], line 4\u001b[0m\n\u001b[0;32m      2\u001b[0m \u001b[38;5;28;01mimport\u001b[39;00m \u001b[38;5;21;01mpandas\u001b[39;00m \u001b[38;5;28;01mas\u001b[39;00m \u001b[38;5;21;01mpd\u001b[39;00m\n\u001b[0;32m      3\u001b[0m \u001b[38;5;28;01mfrom\u001b[39;00m \u001b[38;5;21;01msklearn\u001b[39;00m\u001b[38;5;21;01m.\u001b[39;00m\u001b[38;5;21;01mmodel_selection\u001b[39;00m \u001b[38;5;28;01mimport\u001b[39;00m train_test_split\n\u001b[1;32m----> 4\u001b[0m \u001b[38;5;28;01mfrom\u001b[39;00m \u001b[38;5;21;01msurprise\u001b[39;00m \u001b[38;5;28;01mimport\u001b[39;00m Reader, Dataset, SVD, accuracy\n\u001b[0;32m      5\u001b[0m \u001b[38;5;28;01mimport\u001b[39;00m \u001b[38;5;21;01mmatplotlib\u001b[39;00m\u001b[38;5;21;01m.\u001b[39;00m\u001b[38;5;21;01mpyplot\u001b[39;00m \u001b[38;5;28;01mas\u001b[39;00m \u001b[38;5;21;01mplt\u001b[39;00m\n\u001b[0;32m      6\u001b[0m \u001b[38;5;28;01mfrom\u001b[39;00m \u001b[38;5;21;01msklearn\u001b[39;00m\u001b[38;5;21;01m.\u001b[39;00m\u001b[38;5;21;01mfeature_extraction\u001b[39;00m\u001b[38;5;21;01m.\u001b[39;00m\u001b[38;5;21;01mtext\u001b[39;00m \u001b[38;5;28;01mimport\u001b[39;00m TfidfVectorizer\n",
      "\u001b[1;31mModuleNotFoundError\u001b[0m: No module named 'surprise'"
     ]
    }
   ],
   "source": [
    "# Importer les bibliothèques\n",
    "import pandas as pd\n",
    "from sklearn.model_selection import train_test_split\n",
    "from surprise import Reader, Dataset, SVD, accuracy\n",
    "import matplotlib.pyplot as plt\n",
    "from sklearn.feature_extraction.text import TfidfVectorizer\n",
    "from sklearn.metrics.pairwise import cosine_similarity"
   ]
  },
  {
   "cell_type": "code",
   "execution_count": null,
   "id": "7c5caa96-d145-4d08-8898-5e58df43cbf2",
   "metadata": {},
   "outputs": [],
   "source": [
    "\n",
    "# Charger les données\n",
    "ratings = pd.read_csv('ratings.csv')\n",
    "movies = pd.read_csv('movies.csv')\n"
   ]
  },
  {
   "cell_type": "code",
   "execution_count": null,
   "id": "3a834a71-5ee0-453e-85fd-000b51889479",
   "metadata": {},
   "outputs": [],
   "source": [
    "# Diviser les données en ensembles d'entraînement et de test\n",
    "train_data, test_data = train_test_split(ratings, test_size=0.2, random_state=42)\n"
   ]
  },
  {
   "cell_type": "code",
   "execution_count": null,
   "id": "5ef8776f-cc6e-4eec-9db9-d6788030adb5",
   "metadata": {},
   "outputs": [],
   "source": [
    "# Convertir les données pour Surprise\n",
    "reader = Reader(rating_scale=(0.5, 5.0))\n",
    "train_data_surprise = Dataset.load_from_df(train_data[['userId', 'movieId', 'rating']], reader)\n"
   ]
  },
  {
   "cell_type": "code",
   "execution_count": null,
   "id": "402b19b0-fcd8-4252-b28a-f15faebdbc11",
   "metadata": {},
   "outputs": [],
   "source": [
    "# Entraîner le modèle SVD\n",
    "trainset = train_data_surprise.build_full_trainset()\n",
    "svd = SVD()\n",
    "svd.fit(trainset)"
   ]
  },
  {
   "cell_type": "code",
   "execution_count": null,
   "id": "3e6edd3a-da65-4027-8800-fd1721fe0901",
   "metadata": {},
   "outputs": [],
   "source": [
    "# Préparer l'ensemble de test\n",
    "testset = list(zip(test_data['userId'], test_data['movieId'], test_data['rating']))"
   ]
  },
  {
   "cell_type": "code",
   "execution_count": null,
   "id": "5e62a4bd-0db9-4d58-9cfe-d83d9259b69a",
   "metadata": {},
   "outputs": [],
   "source": [
    "# Évaluer les performances du modèle\n",
    "predictions = svd.test(testset)\n",
    "rmse = accuracy.rmse(predictions)\n",
    "print(f'RMSE: {rmse}')"
   ]
  },
  {
   "cell_type": "code",
   "execution_count": null,
   "id": "5f10b11f-b2c6-4fc4-8d68-339a99d52d0b",
   "metadata": {},
   "outputs": [],
   "source": [
    "# Analyse des résultats\n",
    "errors = [abs(pred.r_ui - pred.est) for pred in predictions]\n",
    "plt.hist(errors, bins=50)\n",
    "plt.xlabel('Erreur')\n",
    "plt.ylabel('Nombre de prédictions')\n",
    "plt.title('Distribution des erreurs des prédictions')\n",
    "plt.show()"
   ]
  },
  {
   "cell_type": "code",
   "execution_count": null,
   "id": "51521d39-e1c4-475f-a76b-89c49b58c8ae",
   "metadata": {},
   "outputs": [],
   "source": [
    "# Méthodes basées sur le contenu\n",
    "tfidf = TfidfVectorizer(stop_words='english')\n",
    "tfidf_matrix = tfidf.fit_transform(movies['genres'])\n",
    "cosine_sim = cosine_similarity(tfidf_matrix, tfidf_matrix)\n"
   ]
  },
  {
   "cell_type": "code",
   "execution_count": null,
   "id": "432b5cfc-0648-4a38-bd1b-5736e09df111",
   "metadata": {},
   "outputs": [],
   "source": []
  },
  {
   "cell_type": "code",
   "execution_count": null,
   "id": "14f78eeb-58b5-4349-a0e0-0131170fd898",
   "metadata": {},
   "outputs": [],
   "source": [
    "# Fonction de recommandation hybride\n",
    "def hybrid_recommendation(user_id, movie_id, svd, cosine_sim):\n",
    "    # Score de filtrage collaboratif\n",
    "    cf_score = svd.predict(user_id, movie_id).est\n",
    "    \n",
    "    # Indice du film\n",
    "    idx = movies[movies['movieId'] == movie_id].index[0]\n",
    "    \n",
    "    # Score de similarité de contenu\n",
    "    content_score = cosine_sim[idx].mean()\n",
    "    \n",
    "    # Score final hybride\n",
    "    final_score = 0.5 * cf_score + 0.5 * content_score\n",
    "    return final_score"
   ]
  },
  {
   "cell_type": "code",
   "execution_count": null,
   "id": "74374d14-86ac-4386-b113-80641f25f236",
   "metadata": {},
   "outputs": [],
   "source": []
  },
  {
   "cell_type": "code",
   "execution_count": null,
   "id": "6f7aa79a-fe49-46f2-8fb2-b7fa283cc78c",
   "metadata": {},
   "outputs": [],
   "source": []
  }
 ],
 "metadata": {
  "kernelspec": {
   "display_name": "Python 3 (ipykernel)",
   "language": "python",
   "name": "python3"
  },
  "language_info": {
   "codemirror_mode": {
    "name": "ipython",
    "version": 3
   },
   "file_extension": ".py",
   "mimetype": "text/x-python",
   "name": "python",
   "nbconvert_exporter": "python",
   "pygments_lexer": "ipython3",
   "version": "3.11.5"
  }
 },
 "nbformat": 4,
 "nbformat_minor": 5
}
